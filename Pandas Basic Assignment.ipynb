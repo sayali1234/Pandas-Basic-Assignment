{
 "cells": [
  {
   "cell_type": "markdown",
   "id": "ed1316ee-81d0-4e2d-92d7-2595d7cd7d66",
   "metadata": {},
   "source": [
    "Q1) Create a Pandas Series that contains the following data: 4, 8, 15, 16, 23, and 42. Then, print the series."
   ]
  },
  {
   "cell_type": "code",
   "execution_count": 1,
   "id": "8e3ee1a0-2c2c-4a3d-ada9-5377b225292b",
   "metadata": {},
   "outputs": [
    {
     "name": "stdout",
     "output_type": "stream",
     "text": [
      "0     4\n",
      "1     8\n",
      "2    15\n",
      "3    16\n",
      "4    23\n",
      "5    42\n",
      "dtype: int64\n"
     ]
    }
   ],
   "source": [
    "import pandas as pd\n",
    "\n",
    "# Create a Pandas Series\n",
    "my_series = pd.Series([4, 8, 15, 16, 23, 42])\n",
    "\n",
    "# Print the series\n",
    "print(my_series)"
   ]
  },
  {
   "cell_type": "markdown",
   "id": "24d9ef53-fe27-498f-b184-90dfbe603c8e",
   "metadata": {},
   "source": [
    "Q2) Create a variable of list type containing 10 elements in it, and apply pandas.Series function on the\n",
    "variable print it."
   ]
  },
  {
   "cell_type": "code",
   "execution_count": 2,
   "id": "6f0e3a4a-0262-46f3-8df1-40100c91465b",
   "metadata": {},
   "outputs": [
    {
     "name": "stdout",
     "output_type": "stream",
     "text": [
      "0     10\n",
      "1     20\n",
      "2     30\n",
      "3     40\n",
      "4     50\n",
      "5     60\n",
      "6     70\n",
      "7     80\n",
      "8     90\n",
      "9    100\n",
      "dtype: int64\n"
     ]
    }
   ],
   "source": [
    "import pandas as pd\n",
    "\n",
    "# Create a list with 10 elements\n",
    "my_list = [10, 20, 30, 40, 50, 60, 70, 80, 90, 100]\n",
    "\n",
    "# Convert the list to a Pandas Series\n",
    "my_series = pd.Series(my_list)\n",
    "\n",
    "# Print the series\n",
    "print(my_series)"
   ]
  },
  {
   "cell_type": "code",
   "execution_count": null,
   "id": "53078baf-86f5-46f0-86fd-9844c8d7e7b2",
   "metadata": {},
   "outputs": [],
   "source": [
    "Q3)Create a Pandas DataFrame that contains the following data:\n",
    "    Name        Age     Gender\n",
    "    Alice       25      Female\n",
    "    Bob         30      Male\n",
    "    Claire      27      Female\n",
    "Then, print the DataFrame."
   ]
  },
  {
   "cell_type": "code",
   "execution_count": null,
   "id": "8d260e81-13da-4251-897d-4ac0dd7e44af",
   "metadata": {},
   "outputs": [],
   "source": [
    "To create a Pandas DataFrame with the given data, you can use the pd.DataFrame() function and pass a dictionary where the keys represent the column names and the\n",
    "values represent the data in each column. Here's an example:"
   ]
  },
  {
   "cell_type": "code",
   "execution_count": 3,
   "id": "a7799e65-73e4-4190-9fd4-5bf5a40f01b2",
   "metadata": {},
   "outputs": [
    {
     "name": "stdout",
     "output_type": "stream",
     "text": [
      "     Name  Age  Gender\n",
      "0   Alice   25  Female\n",
      "1     Bob   30    Male\n",
      "2  Claire   27  Female\n"
     ]
    }
   ],
   "source": [
    "import pandas as pd\n",
    "\n",
    "data = {'Name': ['Alice', 'Bob', 'Claire'],\n",
    "        'Age': [25, 30, 27],\n",
    "        'Gender': ['Female', 'Male', 'Female']}\n",
    "\n",
    "df = pd.DataFrame(data)\n",
    "print(df)"
   ]
  },
  {
   "cell_type": "code",
   "execution_count": null,
   "id": "e89a5223-394a-4ed7-bcc5-222374594fa9",
   "metadata": {},
   "outputs": [],
   "source": [
    "In this example, we created a dictionary data with three keys ('Name', 'Age', and 'Gender'), each representing a column in the DataFrame, and the values as lists\n",
    "with the data in each column. We then passed this dictionary to the pd.DataFrame() function to create the DataFrame df and printed it to the console using the\n",
    "print() function."
   ]
  },
  {
   "cell_type": "markdown",
   "id": "7aa1a818-a084-400f-b97b-9f7f31a8ebf4",
   "metadata": {},
   "source": [
    "Q4) What is ‘DataFrame’ in pandas and how is it different from pandas.series? Explain with an example."
   ]
  },
  {
   "cell_type": "code",
   "execution_count": null,
   "id": "923844aa-ae61-4ff3-9bf8-ef2ecc945200",
   "metadata": {},
   "outputs": [],
   "source": [
    "In Pandas, a DataFrame is a 2-dimensional labeled data structure with columns of potentially different data types, similar to a spreadsheet or SQL table. It is a\n",
    "primary object in Pandas and is used to represent and manipulate data with rows and columns.\n",
    "\n",
    "On the other hand, a Pandas Series is a one-dimensional labeled array capable of holding any data type. It is similar to a column in a DataFrame or a single\n",
    "vector in R.\n",
    "\n",
    "Here's an example to illustrate the difference between a DataFrame and a Series:"
   ]
  },
  {
   "cell_type": "code",
   "execution_count": 4,
   "id": "bcce9665-1e48-44ff-a2f1-009ea7856523",
   "metadata": {},
   "outputs": [
    {
     "name": "stdout",
     "output_type": "stream",
     "text": [
      "DataFrame:\n",
      "     Name  Age  Gender\n",
      "0   Alice   25  Female\n",
      "1     Bob   30    Male\n",
      "2  Claire   27  Female\n",
      "\n",
      "Series:\n",
      "0    25\n",
      "1    30\n",
      "2    27\n",
      "Name: Age, dtype: int64\n"
     ]
    }
   ],
   "source": [
    "import pandas as pd\n",
    "\n",
    "# Create a dictionary with data for a DataFrame\n",
    "data = {'Name': ['Alice', 'Bob', 'Claire'],\n",
    "        'Age': [25, 30, 27],\n",
    "        'Gender': ['Female', 'Male', 'Female']}\n",
    "\n",
    "# Create a DataFrame from the dictionary\n",
    "df = pd.DataFrame(data)\n",
    "\n",
    "# Create a Series from the 'Age' column of the DataFrame\n",
    "ages = df['Age']\n",
    "\n",
    "# Print the DataFrame and the Series\n",
    "print(\"DataFrame:\")\n",
    "print(df)\n",
    "print()\n",
    "print(\"Series:\")\n",
    "print(ages)"
   ]
  },
  {
   "cell_type": "code",
   "execution_count": null,
   "id": "5be86275-c188-4e6d-9720-bcdaaff9b76d",
   "metadata": {},
   "outputs": [],
   "source": [
    "In this example, we first created a dictionary data with three keys ('Name', 'Age', and 'Gender'), each representing a column in the DataFrame, and the values as\n",
    "lists with the data in each column. We then used this dictionary to create a DataFrame df using the pd.DataFrame() function.\n",
    "\n",
    "Next, we created a Series ages from the 'Age' column of the DataFrame by indexing the DataFrame using the column name. This resulted in a one-dimensional labeled\n",
    "array with the values from the 'Age' column of the DataFrame.\n",
    "\n",
    "Finally, we printed both the DataFrame and the Series to the console using the print() function. The DataFrame contains all three columns, while the Series only\n",
    "contains the 'Age' column. Therefore, the DataFrame is a 2-dimensional data structure, while the Series is a 1-dimensional data structure."
   ]
  },
  {
   "cell_type": "markdown",
   "id": "33993a8a-0aff-465e-a266-3f965deb2874",
   "metadata": {},
   "source": [
    "Q5) What are some common functions you can use to manipulate data in a Pandas DataFrame? Can\n",
    "you give an example of when you might use one of these functions?"
   ]
  },
  {
   "cell_type": "code",
   "execution_count": null,
   "id": "d867783b-8cd1-467b-8c5b-49e5f84de92a",
   "metadata": {},
   "outputs": [],
   "source": [
    "Pandas provides many functions to manipulate data in a DataFrame. Here are some common functions that can be used to manipulate data:\n",
    "\n",
    "1)head() and tail(): These functions are used to view the first or last n rows of a DataFrame respectively. They are useful to quickly inspect the structure and\n",
    "contents of a DataFrame."
   ]
  },
  {
   "cell_type": "code",
   "execution_count": 6,
   "id": "090e2b3a-b18e-474e-ae64-d532b571d852",
   "metadata": {},
   "outputs": [
    {
     "name": "stdout",
     "output_type": "stream",
     "text": [
      "    Name  Age  Gender\n",
      "0  Alice   25  Female\n",
      "1    Bob   30    Male\n"
     ]
    }
   ],
   "source": [
    "# Example usage of head() function\n",
    "import pandas as pd\n",
    "\n",
    "# Create a DataFrame\n",
    "data = {'Name': ['Alice', 'Bob', 'Claire'],\n",
    "        'Age': [25, 30, 27],\n",
    "        'Gender': ['Female', 'Male', 'Female']}\n",
    "df = pd.DataFrame(data)\n",
    "\n",
    "# View the first two rows of the DataFrame\n",
    "print(df.head(2))"
   ]
  },
  {
   "cell_type": "code",
   "execution_count": null,
   "id": "34801aea-46c3-472d-9491-027cdeea4daa",
   "metadata": {},
   "outputs": [],
   "source": [
    "2)describe(): This function is used to compute summary statistics of a DataFrame, such as count, mean, standard deviation, minimum, and maximum values. It is\n",
    "useful to quickly get a sense of the distribution and range of values in a DataFrame."
   ]
  },
  {
   "cell_type": "code",
   "execution_count": 7,
   "id": "45120d97-8865-4949-bca4-3a0798138a9e",
   "metadata": {},
   "outputs": [
    {
     "name": "stdout",
     "output_type": "stream",
     "text": [
      "             Age\n",
      "count   3.000000\n",
      "mean   27.333333\n",
      "std     2.516611\n",
      "min    25.000000\n",
      "25%    26.000000\n",
      "50%    27.000000\n",
      "75%    28.500000\n",
      "max    30.000000\n"
     ]
    }
   ],
   "source": [
    "# Example usage of describe() function\n",
    "import pandas as pd\n",
    "\n",
    "# Create a DataFrame\n",
    "data = {'Name': ['Alice', 'Bob', 'Claire'],\n",
    "        'Age': [25, 30, 27],\n",
    "        'Gender': ['Female', 'Male', 'Female']}\n",
    "df = pd.DataFrame(data)\n",
    "\n",
    "# Compute summary statistics of the DataFrame\n",
    "print(df.describe())"
   ]
  },
  {
   "cell_type": "code",
   "execution_count": null,
   "id": "88d82c54-db4d-4801-8a74-cf07ed21c23d",
   "metadata": {},
   "outputs": [],
   "source": [
    "3)groupby(): This function is used to group rows in a DataFrame based on one or more columns, and apply an aggregation function, such as mean, sum, count, or\n",
    "custom functions, to each group. It is useful to analyze the relationship between different variables in a dataset."
   ]
  },
  {
   "cell_type": "code",
   "execution_count": 8,
   "id": "63146569-9112-4046-8059-eff3445ac6d8",
   "metadata": {},
   "outputs": [
    {
     "name": "stdout",
     "output_type": "stream",
     "text": [
      "Gender\n",
      "Female    29.0\n",
      "Male      29.0\n",
      "Name: Age, dtype: float64\n"
     ]
    }
   ],
   "source": [
    "# Example usage of groupby() function\n",
    "import pandas as pd\n",
    "\n",
    "# Create a DataFrame\n",
    "data = {'Name': ['Alice', 'Bob', 'Claire', 'David', 'Eva', 'Frank'],\n",
    "        'Age': [25, 30, 27, 25, 35, 32],\n",
    "        'Gender': ['Female', 'Male', 'Female', 'Male', 'Female', 'Male']}\n",
    "df = pd.DataFrame(data)\n",
    "\n",
    "# Group the DataFrame by 'Gender' column and compute the mean of 'Age' column for each group\n",
    "grouped_df = df.groupby('Gender')['Age'].mean()\n",
    "print(grouped_df)"
   ]
  },
  {
   "cell_type": "code",
   "execution_count": null,
   "id": "f6707b7c-622c-4e10-bf49-f6cd3793f551",
   "metadata": {},
   "outputs": [],
   "source": [
    "In this example, we grouped the DataFrame by the 'Gender' column using the groupby() function, and then computed the mean of the 'Age' column for each group using\n",
    "the mean() function. This allowed us to see the average age of males and females in the dataset.\n",
    "\n",
    "These are just a few examples of the many functions available in Pandas to manipulate data in a DataFrame. They are useful in a wide variety of data analysis \n",
    "tasks, from data cleaning and preparation to exploratory data analysis and model building."
   ]
  },
  {
   "cell_type": "markdown",
   "id": "2b95a061-42eb-4274-8dd5-36d740304398",
   "metadata": {},
   "source": [
    "Q6) Which of the following is mutable in nature Series, DataFrame, Panel?"
   ]
  },
  {
   "cell_type": "code",
   "execution_count": null,
   "id": "696acf24-3730-4cf9-843d-329cfca70f96",
   "metadata": {},
   "outputs": [],
   "source": [
    "In Pandas, DATA MUTABILITY refers to the ability to change the values within a data structure, while SIZE MUTABILITY refers to the ability to change the size or\n",
    "shape of the data structure itself.\n",
    "\n",
    "All three, that is Series, DataFrame and Panel are DATA MUTABLE, meaning that you can change the values within them, but only DataFrame and Panel are SIZE MUTABLE,\n",
    "meaning that you can change their shape or size."
   ]
  },
  {
   "cell_type": "markdown",
   "id": "65bb4f69-52fb-496a-a71d-864f2ec9a303",
   "metadata": {},
   "source": [
    "Q7) Create a DataFrame using multiple Series. Explain with an example."
   ]
  },
  {
   "cell_type": "code",
   "execution_count": null,
   "id": "bfc96b75-fa6d-462f-a0c9-af4a457d7acf",
   "metadata": {},
   "outputs": [],
   "source": [
    "You can create a Pandas DataFrame using multiple Series by passing a dictionary of Series objects to the DataFrame constructor. Each Series represents a column in\n",
    "the resulting DataFrame, and the index of each Series is used to align the data. Here's an example:"
   ]
  },
  {
   "cell_type": "code",
   "execution_count": 9,
   "id": "3bc7722b-83ea-4700-aa8b-cff305f6cdb4",
   "metadata": {},
   "outputs": [
    {
     "name": "stdout",
     "output_type": "stream",
     "text": [
      "     Name  Age  Gender\n",
      "0   Alice   25  Female\n",
      "1     Bob   30    Male\n",
      "2  Claire   27  Female\n"
     ]
    }
   ],
   "source": [
    "import pandas as pd\n",
    "\n",
    "# create three Series objects\n",
    "names = pd.Series(['Alice', 'Bob', 'Claire'])\n",
    "ages = pd.Series([25, 30, 27])\n",
    "genders = pd.Series(['Female', 'Male', 'Female'])\n",
    "\n",
    "# combine the Series objects into a dictionary\n",
    "data = {'Name': names, 'Age': ages, 'Gender': genders}\n",
    "\n",
    "# create the DataFrame\n",
    "df = pd.DataFrame(data)\n",
    "\n",
    "# print the DataFrame\n",
    "print(df)"
   ]
  },
  {
   "cell_type": "code",
   "execution_count": null,
   "id": "b04e8217-162d-430b-a6f7-a7f296640561",
   "metadata": {},
   "outputs": [],
   "source": [
    "In this example, we first create three Series objects called names, ages, and genders, each containing data for a single column of the final DataFrame. We then\n",
    "combine these Series into a dictionary called data, where the keys represent the column names and the values represent the Series data.\n",
    "\n",
    "Finally, we pass this dictionary to the DataFrame constructor to create the final DataFrame object df, which contains the data from all three Series. Note that the\n",
    "index of each Series is used to align the data, so that the values in each column are matched to the correct row."
   ]
  }
 ],
 "metadata": {
  "kernelspec": {
   "display_name": "Python 3 (ipykernel)",
   "language": "python",
   "name": "python3"
  },
  "language_info": {
   "codemirror_mode": {
    "name": "ipython",
    "version": 3
   },
   "file_extension": ".py",
   "mimetype": "text/x-python",
   "name": "python",
   "nbconvert_exporter": "python",
   "pygments_lexer": "ipython3",
   "version": "3.10.8"
  }
 },
 "nbformat": 4,
 "nbformat_minor": 5
}
